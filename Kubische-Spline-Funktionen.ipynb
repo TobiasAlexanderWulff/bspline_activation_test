{
 "cells": [
  {
   "cell_type": "markdown",
   "id": "ad58a25d-2dff-48a9-98c7-ae1589c382c8",
   "metadata": {},
   "source": [
    "# Kubische Splines mit eingespanntem Rand\n",
    "\n",
    "Wir geben die $n+1$ $x$-Werte und $y$-Werte $(x_0,y_0),\\ldots,(x_n, y_n)$ vor.\n",
    "\n",
    "Gesucht ist die Spline Funktion $s(x)$ mit $s(x_i) = y_i$.\n",
    "\n",
    "Die Lösung ergibt sich abschnittsweise mit Hilfe von Hermite-Polynomen, wie auf wie im Skript, man setzt jedoch $x=t$ und erhält so Funktionsgraphen.\n",
    "\n",
    "Das Gleichungssystem, das gelöst werden muss ist\n",
    "$$ \\begin{pmatrix}\n",
    "   4 & 1 & 0 & 0 & 0 & \\ldots & 0 \\\\\n",
    "   1 & 4 & 1 & 0 & 0 & \\ldots & 0 \\\\\n",
    "   0 & 1 & 4 & 1 & 0 & \\ldots & 0 \\\\\n",
    "   \\vdots & \\ddots & \\ddots & \\ddots & \\ddots & \\ddots & \\vdots \\\\\n",
    "   \\vdots &  &  \\ddots & \\ddots & \\ddots & \\ddots & \\vdots \\\\\n",
    "   0 & \\ldots & \\ldots & 0 & 1 & 4 & 1 \\\\\n",
    "   0 & \\ldots & \\ldots & 0 & 0 & 1 & 4\n",
    "   \\end{pmatrix}\n",
    "   \\cdot\n",
    "   \\begin{pmatrix} y_1' \\\\ y_2' \\\\ \\vdots \\\\ \\vdots \\\\ y_{n-1}' \\end{pmatrix}\n",
    "   = 3 \\cdot\n",
    "   \\begin{pmatrix} y_2 - y_0\\\\ y_3 - y_1 \\\\  \\vdots \\\\ \\vdots \\\\ y_n - y_{n-2}  \\end{pmatrix}\n",
    "   - \\begin{pmatrix} y_0' \\\\ 0 \\\\ \\vdots \\\\ 0 \\\\ y_n'  \\end{pmatrix}\n",
    "$$"
   ]
  },
  {
   "cell_type": "code",
   "execution_count": 2,
   "id": "04329c8c-18a5-4f7d-b10e-d4f2e9205306",
   "metadata": {},
   "outputs": [],
   "source": [
    "import numpy as np\n",
    "import matplotlib.pyplot as plt\n",
    "\n",
    "def h(x, y0, y1, y0s, y1s):\n",
    "    # Das Hermite-Polynom, dass einen Funktionsabschnitt erzeugt\n",
    "    # 0 <= x <= 1\n",
    "    # h(0) = y0, h(1) = y1\n",
    "    # h'(0) = y0s, h'(1) = y1s\n",
    "    return (2*y0-2*y1+y0s+y1s)*x**3 + (-3*y0 + 3*y1 - 2*y0s - y1s)*x**2 + y0s*x + y0\n",
    "\n",
    "def hs(x, y0, y1, y0s, y1s):\n",
    "    # Die Ableitung des Hermite-Polynoms\n",
    "    # 0 <= x <= 1\n",
    "    return (2*y0-2*y1+y0s+y1s)*3*x**2 + (-3*y0 + 3*y1 - 2*y0s - y1s)*2*x + y0s\n",
    "\n",
    "def solveGls(y, y0s, yns):\n",
    "    n = len(y)-1\n",
    "    A = 4 * np.eye(n-1) + np.diag([1]*(n-2),1) + np.diag([1]*(n-2),-1)\n",
    "    b = 3*(y[2:] - y[:-2])\n",
    "    b[0] -= y0s\n",
    "    b[n-2] -= yns\n",
    "    return np.linalg.solve(A, b)  # returns y1s,..., y(n-1)s\n",
    "\n",
    "def s(t, x, y, ys):\n",
    "    # Berechne den B-Spline für x=t\n",
    "    # x = (x0, ..., xn), x0 < x1 < ... < xn\n",
    "    # y = (y0, ..., yn)\n",
    "    # ys = (y0s, ..., yns), die Ableitungen/Steigungen\n",
    "    n = len(x)-1\n",
    "    # finde das Intevall xi <= t <= x(i+1)\n",
    "    i = 0\n",
    "    while i < n+1:\n",
    "        if x[i] <= t <= x[i+1]:\n",
    "            break\n",
    "        i += 1\n",
    "    # Berechen das i-te Hermitepolynom, [xi, x(i+1)] -> [0,1]\n",
    "    t = (t-x[i])/(x[i+1]-x[i])  # Umparametrisierung\n",
    "    return h(t, y[i], y[i+1], ys[i], ys[i+1])\n",
    "\n",
    "def ss(t, x, y, ys):\n",
    "    # Berechnet die Ableitung des B-Splines für x=t\n",
    "    # x = (x0, ..., xn), x0 < x1 < ... < xn\n",
    "    # y = (y0, ..., yn)\n",
    "    # ys = (y0s, ..., yns), die Ableitungen/Steigungen\n",
    "    n = len(x)-1\n",
    "    # finde das Intevall xi <= t <= x(i+1)\n",
    "    i = 0\n",
    "    while i < n+1:\n",
    "        if x[i] <= t <= x[i+1]:\n",
    "            break\n",
    "        i += 1\n",
    "    # Berechen das i-te Hermitepolynom, [xi, x(i+1)] -> [0,1]\n",
    "    t = (t-x[i])/(x[i+1]-x[i])  # Umparametrisierung\n",
    "    return hs(t, y[i], y[i+1], ys[i], ys[i+1]) / (x[i+1]-x[i])  # Kettenregel!"
   ]
  },
  {
   "cell_type": "code",
   "execution_count": 3,
   "id": "5a66db6a-269c-4987-92ee-d11f0e977ee0",
   "metadata": {},
   "outputs": [
    {
     "name": "stdout",
     "output_type": "stream",
     "text": [
      "[0.0665 0.     0.     0.0665]\n",
      "[0.0665     0.42663784 0.42663784 0.0665    ]\n"
     ]
    },
    {
     "data": {
      "text/plain": [
       "<matplotlib.legend.Legend at 0x7f553bddf770>"
      ]
     },
     "execution_count": 3,
     "metadata": {},
     "output_type": "execute_result"
    },
    {
     "data": {
      "image/png": "[encoded data removed]",
      "text/plain": [
       "<Figure size 640x480 with 1 Axes>"
      ]
     },
     "metadata": {},
     "output_type": "display_data"
    }
   ],
   "source": [
    "# Beispiel die Sigmoid-Funktion mit Hilfe eines kubsichen Splines\n",
    "n = 3  # 2 Funktionsabschnitte\n",
    "x = np.linspace(-3.5, 3.5, n+1)\n",
    "y = 1/(1+np.exp(-x))\n",
    "plt.plot(x, y, '*g')\n",
    "# Berechne einmalig die fehlenden Ableitungen y1s, ..., y(n-1)s\n",
    "ys = np.zeros(n+1)\n",
    "ys[0] = 0.0285*(x[1]-x[0])  # Die Ableitung der Sigmoid-Funktionn ist 0.02845 bei ±3.5, wegen der Umparametrisierung muss noch skaliert werden für den B-Spline\n",
    "ys[n] = 0.0285*(x[n]-x[n-1])\n",
    "print(ys)\n",
    "ys[1:n] = solveGls(y, ys[0], ys[n])\n",
    "print(ys)\n",
    "# Plotte die Sigmoid-Funktion und den B-Spline\n",
    "xp = np.linspace(-3.5, 3.5, 50)\n",
    "plt.plot(xp, 1/(1+np.exp(-xp)), '-r', label='Sigmoid')\n",
    "yp = [s(t, x, y, ys) for t in xp]\n",
    "plt.plot(xp, yp, '-b', label='kub. Spline')\n",
    "plt.legend()"
   ]
  },
  {
   "cell_type": "code",
   "execution_count": 3,
   "id": "f3af9d06-d6f1-47f8-9c08-24bf31d0f27a",
   "metadata": {},
   "outputs": [
    {
     "data": {
      "text/plain": [
       "np.float64(0.02849999999999994)"
      ]
     },
     "execution_count": 3,
     "metadata": {},
     "output_type": "execute_result"
    }
   ],
   "source": [
    "ss(3.5, x, y, ys)"
   ]
  }
 ],
 "metadata": {
  "kernelspec": {
   "display_name": "venv",
   "language": "python",
   "name": "python3"
  },
  "language_info": {
   "codemirror_mode": {
    "name": "ipython",
    "version": 3
   },
   "file_extension": ".py",
   "mimetype": "text/x-python",
   "name": "python",
   "nbconvert_exporter": "python",
   "pygments_lexer": "ipython3",
   "version": "3.12.3"
  },
  "widgets": {
   "application/vnd.jupyter.widget-state+json": {
    "state": {},
    "version_major": 2,
    "version_minor": 0
   }
  }
 },
 "nbformat": 4,
 "nbformat_minor": 5
}
